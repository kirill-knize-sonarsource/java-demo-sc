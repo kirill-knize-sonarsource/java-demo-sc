{
 "cells": [
  {
   "cell_type": "markdown",
   "id": "a9c5a007-ddfd-4b42-a5c3-11eb430b23ce",
   "metadata": {},
   "source": [
    "<p align=\"center\">\n",
    "  <img src=\"https://logowik.com/content/uploads/images/sonar-source3242.jpg\" alt=\"Sonar Logo\" style=\"width:20%\"/>\n",
    "  <img src=\"https://www.sonarlint.org/sonarlint-og-image.png\" alt=\"SonarLint Logo\" style=\"width:20%\"/>\n",
    "</p>"
   ]
  },
  {
   "cell_type": "markdown",
   "id": "0bec67aa",
   "metadata": {},
   "source": [
    "<h1 style=\"text-align:center\">SonarLint Innovation Days - May 2022</h1>"
   ]
  },
  {
   "cell_type": "markdown",
   "id": "034e4a8c",
   "metadata": {},
   "source": [
    "<h2 style=\"text-align:center\">SonarLint for JupyterLab</h2>\n",
    "<h4 style=\"text-align:center\">Julien HENRY</h4>\n",
    "<h4 style=\"text-align:center\">Sophio JAPHARIDZE</h4>"
   ]
  },
  {
   "cell_type": "markdown",
   "id": "e9bc2f0e",
   "metadata": {},
   "source": [
    "<h3>Jupyter Documents</h3>\n",
    "<p>\n",
    " Jupyter Documents are a mix of Markdown and runnable code snippets like this one\n",
    "</p>"
   ]
  },
  {
   "cell_type": "markdown",
   "id": "0badc2ac-102b-4033-a00d-3dea226780b8",
   "metadata": {},
   "source": [
    "<h3>Is Jupyter an IDE?</h3>\n",
    "Creators of Jupyter Organisation have created web-based IDE called Jupyter Notebook. JupyterLab is a next generation (newer version of the IDE) of Jupyter Notebook."
   ]
  },
  {
   "cell_type": "markdown",
   "id": "91f95838",
   "metadata": {},
   "source": [
    "<h3>What did we do?</h3>\n",
    "<ul>\n",
    "    <li>Find Language Server Protocol for JupyterLab</li>\n",
    "    <li>Modify SonarLint Language Server to communicate with LSP using StdIO</li>\n",
    "    <li>Mount our modified SL LS to the JupyterLab LSP</li>\n",
    "    <li>Write clean code in any IDE</li>\n",
    "</ul>"
   ]
  },
  {
   "cell_type": "code",
   "execution_count": null,
   "id": "68a6f87d",
   "metadata": {},
   "outputs": [],
   "source": [
    "print(\"hello\")\n",
    "\n",
    "a = True\n",
    "b = False\n",
    "\n",
    "if a and a:\n",
    "    print(\"ok\")"
   ]
  },
  {
   "cell_type": "code",
   "execution_count": null,
   "id": "13beca2c",
   "metadata": {},
   "outputs": [],
   "source": [
    "if b and b:\n",
    "    print(\"ok\")   "
   ]
  },
  {
   "cell_type": "code",
   "execution_count": null,
   "id": "fa777b67",
   "metadata": {},
   "outputs": [],
   "source": [
    "def configure_app(app):\n",
    "    app.config['SQLALCHEMY_DATABASE_URI'] = \"postgresql://user:@domain.com\" # Noncompliant"
   ]
  },
  {
   "cell_type": "code",
   "execution_count": null,
   "id": "eed59b5c",
   "metadata": {},
   "outputs": [],
   "source": [
    "target = -5\n",
    "num = 3\n",
    "\n",
    "target =- num\n",
    "target =+ num"
   ]
  },
  {
   "cell_type": "code",
   "execution_count": null,
   "id": "64c793da",
   "metadata": {},
   "outputs": [],
   "source": [
    "def foo(a):  # NonCompliant\n",
    "    b = 12\n",
    "    if a == 1:\n",
    "        return b\n",
    "    return b"
   ]
  },
  {
   "cell_type": "markdown",
   "id": "542b54cc",
   "metadata": {},
   "source": [
    "<h3>What's Next?</h3>\n",
    "<ul>\n",
    "    <li>Find out which IDE is most popular for working with Jupyter documents</li>\n",
    "    <li>...</li>\n",
    "</ul>"
   ]
  },
  {
   "cell_type": "code",
   "execution_count": 1,
   "id": "ecd72912",
   "metadata": {},
   "outputs": [],
   "source": [
    "def foo():\n",
    "    int = 10\n",
    "    return int"
   ]
  },
  {
   "cell_type": "code",
   "execution_count": 2,
   "id": "b454a08f",
   "metadata": {},
   "outputs": [],
   "source": [
    "a = 1\n",
    "b = 2\n",
    "if not a < b:\n",
    "    print('more')\n",
    "    "
   ]
  },
  {
   "cell_type": "code",
   "execution_count": null,
   "id": "19a1396f",
   "metadata": {},
   "outputs": [],
   "source": [
    "v"
   ]
  }
 ],
 "metadata": {
  "kernelspec": {
   "display_name": "Python 3",
   "language": "python",
   "name": "python3"
  },
  "language_info": {
   "codemirror_mode": {
    "name": "ipython",
    "version": 3
   },
   "file_extension": ".py",
   "mimetype": "text/x-python",
   "name": "python",
   "nbconvert_exporter": "python",
   "pygments_lexer": "ipython3",
   "version": "3.10.10"
  },
  "vscode": {
   "interpreter": {
    "hash": "98590ff4fe04c8543246b2a01debd3de3c5ca9b666f43f1fa87d5110c692004c"
   }
  }
 },
 "nbformat": 4,
 "nbformat_minor": 5
}
